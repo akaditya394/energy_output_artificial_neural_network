{
  "nbformat": 4,
  "nbformat_minor": 0,
  "metadata": {
    "colab": {
      "provenance": [],
      "include_colab_link": true
    },
    "kernelspec": {
      "name": "python3",
      "display_name": "Python 3"
    }
  },
  "cells": [
    {
      "cell_type": "markdown",
      "metadata": {
        "id": "view-in-github",
        "colab_type": "text"
      },
      "source": [
        "<a href=\"https://colab.research.google.com/github/akaditya394/energy_output_artificial_neural_network/blob/main/energy_output_artificial_neural_network.ipynb\" target=\"_parent\"><img src=\"https://colab.research.google.com/assets/colab-badge.svg\" alt=\"Open In Colab\"/></a>"
      ]
    },
    {
      "cell_type": "markdown",
      "metadata": {
        "id": "3cbb7fRy-eyr"
      },
      "source": [
        "# Artificial Neural Network"
      ]
    },
    {
      "cell_type": "markdown",
      "metadata": {
        "id": "8sNDnxE2-pwE"
      },
      "source": [
        "### Importing the libraries"
      ]
    },
    {
      "cell_type": "code",
      "source": [
        "import numpy as np\n",
        "import pandas as  pd\n",
        "import tensorflow as tf"
      ],
      "metadata": {
        "id": "I5YqLgRx7qZv"
      },
      "execution_count": 1,
      "outputs": []
    },
    {
      "cell_type": "code",
      "source": [
        "tf.__version__"
      ],
      "metadata": {
        "colab": {
          "base_uri": "https://localhost:8080/",
          "height": 35
        },
        "id": "1kzoaiel7xUh",
        "outputId": "e1c566f5-96ab-4fd3-a67a-02ea1b5ead56"
      },
      "execution_count": 2,
      "outputs": [
        {
          "output_type": "execute_result",
          "data": {
            "text/plain": [
              "'2.9.2'"
            ],
            "application/vnd.google.colaboratory.intrinsic+json": {
              "type": "string"
            }
          },
          "metadata": {},
          "execution_count": 2
        }
      ]
    },
    {
      "cell_type": "markdown",
      "metadata": {
        "id": "AG3FQEch-yuA"
      },
      "source": [
        "## Part 1 - Data Preprocessing"
      ]
    },
    {
      "cell_type": "markdown",
      "metadata": {
        "id": "-4zq8Mza_D9O"
      },
      "source": [
        "### Importing the dataset"
      ]
    },
    {
      "cell_type": "code",
      "source": [
        "dataset = pd.read_excel('Folds5x2_pp.xlsx')\n",
        "X = dataset.iloc[:, :-1].values\n",
        "y = dataset.iloc[:, -1].values"
      ],
      "metadata": {
        "id": "5_P5JxU0_YpB"
      },
      "execution_count": 4,
      "outputs": []
    },
    {
      "cell_type": "markdown",
      "metadata": {
        "id": "VC6omXel_Up0"
      },
      "source": [
        "### Splitting the dataset into the Training set and Test set"
      ]
    },
    {
      "cell_type": "code",
      "source": [
        "from sklearn.model_selection import train_test_split\n",
        "X_train, X_test, y_train, y_test = train_test_split(X, y, test_size = 0.2, random_state = 0)"
      ],
      "metadata": {
        "id": "2ToZ7Q8J_bG7"
      },
      "execution_count": 6,
      "outputs": []
    },
    {
      "cell_type": "markdown",
      "metadata": {
        "id": "_mSLlAT9_eyI"
      },
      "source": [
        "## Part 2 - Building the ANN"
      ]
    },
    {
      "cell_type": "markdown",
      "metadata": {
        "id": "CsBULd_f_wLY"
      },
      "source": [
        "### Initializing the ANN"
      ]
    },
    {
      "cell_type": "code",
      "source": [
        "ann = tf.keras.models.Sequential()"
      ],
      "metadata": {
        "id": "IXyKZ7YlB_Kn"
      },
      "execution_count": 7,
      "outputs": []
    },
    {
      "cell_type": "markdown",
      "metadata": {
        "id": "iitAFJS_ABUn"
      },
      "source": [
        "### Adding the input layer and the first hidden layer"
      ]
    },
    {
      "cell_type": "code",
      "source": [
        "ann.add(tf.keras.layers.Dense(units = 6, activation = 'relu'))"
      ],
      "metadata": {
        "id": "KUgr1nziDkVL"
      },
      "execution_count": 8,
      "outputs": []
    },
    {
      "cell_type": "markdown",
      "metadata": {
        "id": "-lb4kK_wAKbs"
      },
      "source": [
        "### Adding the second hidden layer"
      ]
    },
    {
      "cell_type": "code",
      "source": [
        "ann.add(tf.keras.layers.Dense(units = 6, activation = 'relu'))"
      ],
      "metadata": {
        "id": "w0YOy_QkD3ch"
      },
      "execution_count": 9,
      "outputs": []
    },
    {
      "cell_type": "markdown",
      "metadata": {
        "id": "jwMOmKb3AdBY"
      },
      "source": [
        "### Adding the output layer"
      ]
    },
    {
      "cell_type": "code",
      "source": [
        "ann.add(tf.keras.layers.Dense(units = 1))"
      ],
      "metadata": {
        "id": "olClsH5mEWAo"
      },
      "execution_count": 10,
      "outputs": []
    },
    {
      "cell_type": "markdown",
      "metadata": {
        "id": "fq7e4fF6A1yy"
      },
      "source": [
        "## Part 3 - Training the ANN"
      ]
    },
    {
      "cell_type": "markdown",
      "metadata": {
        "id": "qDeylAs2An25"
      },
      "source": [
        "### Compiling the ANN"
      ]
    },
    {
      "cell_type": "code",
      "source": [
        "ann.compile(optimizer = 'adam', loss = 'mean_squared_error')"
      ],
      "metadata": {
        "id": "TNUVPXdgFyYU"
      },
      "execution_count": 11,
      "outputs": []
    },
    {
      "cell_type": "markdown",
      "metadata": {
        "id": "YjVuiybYOo7r"
      },
      "source": [
        "### Training the ANN model on the Training set"
      ]
    },
    {
      "cell_type": "code",
      "source": [
        "ann.fit(X_train, y_train, batch_size = 32, epochs = 100)"
      ],
      "metadata": {
        "colab": {
          "base_uri": "https://localhost:8080/"
        },
        "id": "3hRLs050PV1g",
        "outputId": "2f665fec-7747-4454-8061-fda6400613f8"
      },
      "execution_count": 12,
      "outputs": [
        {
          "output_type": "stream",
          "name": "stdout",
          "text": [
            "Epoch 1/100\n",
            "240/240 [==============================] - 1s 1ms/step - loss: 703140.8750\n",
            "Epoch 2/100\n",
            "240/240 [==============================] - 0s 1ms/step - loss: 20631.8711\n",
            "Epoch 3/100\n",
            "240/240 [==============================] - 0s 1ms/step - loss: 656.8776\n",
            "Epoch 4/100\n",
            "240/240 [==============================] - 0s 1ms/step - loss: 621.9937\n",
            "Epoch 5/100\n",
            "240/240 [==============================] - 0s 1ms/step - loss: 613.6788\n",
            "Epoch 6/100\n",
            "240/240 [==============================] - 0s 1ms/step - loss: 604.1005\n",
            "Epoch 7/100\n",
            "240/240 [==============================] - 0s 1ms/step - loss: 592.8816\n",
            "Epoch 8/100\n",
            "240/240 [==============================] - 0s 1ms/step - loss: 580.7119\n",
            "Epoch 9/100\n",
            "240/240 [==============================] - 0s 1ms/step - loss: 566.8242\n",
            "Epoch 10/100\n",
            "240/240 [==============================] - 0s 1ms/step - loss: 551.5500\n",
            "Epoch 11/100\n",
            "240/240 [==============================] - 0s 1ms/step - loss: 535.4178\n",
            "Epoch 12/100\n",
            "240/240 [==============================] - 0s 1ms/step - loss: 516.8099\n",
            "Epoch 13/100\n",
            "240/240 [==============================] - 0s 1ms/step - loss: 498.3621\n",
            "Epoch 14/100\n",
            "240/240 [==============================] - 0s 1ms/step - loss: 477.2534\n",
            "Epoch 15/100\n",
            "240/240 [==============================] - 0s 1ms/step - loss: 455.8011\n",
            "Epoch 16/100\n",
            "240/240 [==============================] - 0s 1ms/step - loss: 433.9199\n",
            "Epoch 17/100\n",
            "240/240 [==============================] - 0s 1ms/step - loss: 409.5745\n",
            "Epoch 18/100\n",
            "240/240 [==============================] - 0s 1ms/step - loss: 384.9749\n",
            "Epoch 19/100\n",
            "240/240 [==============================] - 0s 1ms/step - loss: 358.7553\n",
            "Epoch 20/100\n",
            "240/240 [==============================] - 0s 1ms/step - loss: 331.7008\n",
            "Epoch 21/100\n",
            "240/240 [==============================] - 0s 1ms/step - loss: 302.5616\n",
            "Epoch 22/100\n",
            "240/240 [==============================] - 0s 1ms/step - loss: 273.4279\n",
            "Epoch 23/100\n",
            "240/240 [==============================] - 0s 1ms/step - loss: 241.1005\n",
            "Epoch 24/100\n",
            "240/240 [==============================] - 0s 1ms/step - loss: 209.9776\n",
            "Epoch 25/100\n",
            "240/240 [==============================] - 0s 1ms/step - loss: 175.3384\n",
            "Epoch 26/100\n",
            "240/240 [==============================] - 0s 1ms/step - loss: 141.9447\n",
            "Epoch 27/100\n",
            "240/240 [==============================] - 0s 1ms/step - loss: 109.8646\n",
            "Epoch 28/100\n",
            "240/240 [==============================] - 0s 1ms/step - loss: 81.6441\n",
            "Epoch 29/100\n",
            "240/240 [==============================] - 0s 1ms/step - loss: 61.9577\n",
            "Epoch 30/100\n",
            "240/240 [==============================] - 0s 1ms/step - loss: 46.1457\n",
            "Epoch 31/100\n",
            "240/240 [==============================] - 0s 1ms/step - loss: 37.5737\n",
            "Epoch 32/100\n",
            "240/240 [==============================] - 0s 1ms/step - loss: 32.8500\n",
            "Epoch 33/100\n",
            "240/240 [==============================] - 0s 1ms/step - loss: 29.9736\n",
            "Epoch 34/100\n",
            "240/240 [==============================] - 0s 1ms/step - loss: 30.7617\n",
            "Epoch 35/100\n",
            "240/240 [==============================] - 0s 1ms/step - loss: 28.3713\n",
            "Epoch 36/100\n",
            "240/240 [==============================] - 0s 1ms/step - loss: 28.3387\n",
            "Epoch 37/100\n",
            "240/240 [==============================] - 0s 1ms/step - loss: 28.0404\n",
            "Epoch 38/100\n",
            "240/240 [==============================] - 0s 1ms/step - loss: 28.3711\n",
            "Epoch 39/100\n",
            "240/240 [==============================] - 0s 1ms/step - loss: 27.8665\n",
            "Epoch 40/100\n",
            "240/240 [==============================] - 0s 1ms/step - loss: 27.6933\n",
            "Epoch 41/100\n",
            "240/240 [==============================] - 0s 1ms/step - loss: 28.6632\n",
            "Epoch 42/100\n",
            "240/240 [==============================] - 0s 1ms/step - loss: 28.0309\n",
            "Epoch 43/100\n",
            "240/240 [==============================] - 0s 1ms/step - loss: 28.0076\n",
            "Epoch 44/100\n",
            "240/240 [==============================] - 0s 1ms/step - loss: 28.2686\n",
            "Epoch 45/100\n",
            "240/240 [==============================] - 0s 1ms/step - loss: 29.0012\n",
            "Epoch 46/100\n",
            "240/240 [==============================] - 0s 1ms/step - loss: 29.2230\n",
            "Epoch 47/100\n",
            "240/240 [==============================] - 0s 1ms/step - loss: 27.6099\n",
            "Epoch 48/100\n",
            "240/240 [==============================] - 0s 1ms/step - loss: 28.4488\n",
            "Epoch 49/100\n",
            "240/240 [==============================] - 0s 1ms/step - loss: 27.7496\n",
            "Epoch 50/100\n",
            "240/240 [==============================] - 0s 1ms/step - loss: 27.1201\n",
            "Epoch 51/100\n",
            "240/240 [==============================] - 0s 1ms/step - loss: 28.2898\n",
            "Epoch 52/100\n",
            "240/240 [==============================] - 0s 1ms/step - loss: 27.8641\n",
            "Epoch 53/100\n",
            "240/240 [==============================] - 0s 1ms/step - loss: 27.3135\n",
            "Epoch 54/100\n",
            "240/240 [==============================] - 0s 1ms/step - loss: 28.2028\n",
            "Epoch 55/100\n",
            "240/240 [==============================] - 0s 1ms/step - loss: 28.4483\n",
            "Epoch 56/100\n",
            "240/240 [==============================] - 0s 1ms/step - loss: 30.9972\n",
            "Epoch 57/100\n",
            "240/240 [==============================] - 0s 1ms/step - loss: 28.1453\n",
            "Epoch 58/100\n",
            "240/240 [==============================] - 0s 1ms/step - loss: 28.1449\n",
            "Epoch 59/100\n",
            "240/240 [==============================] - 0s 1ms/step - loss: 29.1053\n",
            "Epoch 60/100\n",
            "240/240 [==============================] - 0s 1ms/step - loss: 27.7364\n",
            "Epoch 61/100\n",
            "240/240 [==============================] - 0s 1ms/step - loss: 28.8452\n",
            "Epoch 62/100\n",
            "240/240 [==============================] - 0s 1ms/step - loss: 27.1954\n",
            "Epoch 63/100\n",
            "240/240 [==============================] - 0s 1ms/step - loss: 28.0739\n",
            "Epoch 64/100\n",
            "240/240 [==============================] - 0s 1ms/step - loss: 28.0408\n",
            "Epoch 65/100\n",
            "240/240 [==============================] - 0s 1ms/step - loss: 29.5541\n",
            "Epoch 66/100\n",
            "240/240 [==============================] - 0s 1ms/step - loss: 29.8227\n",
            "Epoch 67/100\n",
            "240/240 [==============================] - 0s 1ms/step - loss: 28.7563\n",
            "Epoch 68/100\n",
            "240/240 [==============================] - 0s 1ms/step - loss: 27.4809\n",
            "Epoch 69/100\n",
            "240/240 [==============================] - 0s 1ms/step - loss: 28.1238\n",
            "Epoch 70/100\n",
            "240/240 [==============================] - 0s 1ms/step - loss: 27.2333\n",
            "Epoch 71/100\n",
            "240/240 [==============================] - 0s 1ms/step - loss: 29.4838\n",
            "Epoch 72/100\n",
            "240/240 [==============================] - 0s 1ms/step - loss: 27.7306\n",
            "Epoch 73/100\n",
            "240/240 [==============================] - 0s 1ms/step - loss: 27.7922\n",
            "Epoch 74/100\n",
            "240/240 [==============================] - 0s 1ms/step - loss: 30.3612\n",
            "Epoch 75/100\n",
            "240/240 [==============================] - 0s 1ms/step - loss: 28.0527\n",
            "Epoch 76/100\n",
            "240/240 [==============================] - 0s 1ms/step - loss: 27.6096\n",
            "Epoch 77/100\n",
            "240/240 [==============================] - 0s 1ms/step - loss: 27.7278\n",
            "Epoch 78/100\n",
            "240/240 [==============================] - 0s 1ms/step - loss: 27.8321\n",
            "Epoch 79/100\n",
            "240/240 [==============================] - 0s 1ms/step - loss: 27.6929\n",
            "Epoch 80/100\n",
            "240/240 [==============================] - 0s 1ms/step - loss: 27.6363\n",
            "Epoch 81/100\n",
            "240/240 [==============================] - 0s 1ms/step - loss: 28.2143\n",
            "Epoch 82/100\n",
            "240/240 [==============================] - 0s 1ms/step - loss: 28.0608\n",
            "Epoch 83/100\n",
            "240/240 [==============================] - 0s 1ms/step - loss: 27.5637\n",
            "Epoch 84/100\n",
            "240/240 [==============================] - 0s 1ms/step - loss: 28.7298\n",
            "Epoch 85/100\n",
            "240/240 [==============================] - 0s 1ms/step - loss: 28.0305\n",
            "Epoch 86/100\n",
            "240/240 [==============================] - 0s 1ms/step - loss: 27.9497\n",
            "Epoch 87/100\n",
            "240/240 [==============================] - 0s 1ms/step - loss: 28.1036\n",
            "Epoch 88/100\n",
            "240/240 [==============================] - 0s 1ms/step - loss: 27.6911\n",
            "Epoch 89/100\n",
            "240/240 [==============================] - 0s 1ms/step - loss: 28.6746\n",
            "Epoch 90/100\n",
            "240/240 [==============================] - 0s 1ms/step - loss: 27.6754\n",
            "Epoch 91/100\n",
            "240/240 [==============================] - 0s 1ms/step - loss: 27.4759\n",
            "Epoch 92/100\n",
            "240/240 [==============================] - 0s 1ms/step - loss: 29.4075\n",
            "Epoch 93/100\n",
            "240/240 [==============================] - 0s 1ms/step - loss: 27.7114\n",
            "Epoch 94/100\n",
            "240/240 [==============================] - 0s 1ms/step - loss: 27.7459\n",
            "Epoch 95/100\n",
            "240/240 [==============================] - 0s 1ms/step - loss: 27.6287\n",
            "Epoch 96/100\n",
            "240/240 [==============================] - 0s 1ms/step - loss: 27.8426\n",
            "Epoch 97/100\n",
            "240/240 [==============================] - 0s 1ms/step - loss: 28.6588\n",
            "Epoch 98/100\n",
            "240/240 [==============================] - 0s 1ms/step - loss: 28.8612\n",
            "Epoch 99/100\n",
            "240/240 [==============================] - 0s 1ms/step - loss: 27.8240\n",
            "Epoch 100/100\n",
            "240/240 [==============================] - 0s 1ms/step - loss: 28.1185\n"
          ]
        },
        {
          "output_type": "execute_result",
          "data": {
            "text/plain": [
              "<keras.callbacks.History at 0x7f810abd2340>"
            ]
          },
          "metadata": {},
          "execution_count": 12
        }
      ]
    },
    {
      "cell_type": "markdown",
      "metadata": {
        "id": "0H0zKKNEBLD5"
      },
      "source": [
        "### Predicting the results of the Test set"
      ]
    },
    {
      "cell_type": "code",
      "source": [
        "y_pred = ann.predict(X_test)\n",
        "np.set_printoptions(precision=2)\n",
        "print(np.concatenate((y_pred.reshape(len(y_pred),1), y_test.reshape(len(y_test),1)),1))"
      ],
      "metadata": {
        "colab": {
          "base_uri": "https://localhost:8080/"
        },
        "id": "sr3ruUmsRsPI",
        "outputId": "c98acfdc-ca0c-4e5b-afd0-4ec624f1b77b"
      },
      "execution_count": 13,
      "outputs": [
        {
          "output_type": "stream",
          "name": "stdout",
          "text": [
            "60/60 [==============================] - 0s 1ms/step\n",
            "[[430.98 431.23]\n",
            " [462.1  460.01]\n",
            " [465.69 461.14]\n",
            " ...\n",
            " [472.89 473.26]\n",
            " [439.43 438.  ]\n",
            " [458.78 463.28]]\n"
          ]
        }
      ]
    }
  ]
}